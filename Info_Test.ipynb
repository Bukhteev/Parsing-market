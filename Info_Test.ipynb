{
 "cells": [
  {
   "cell_type": "markdown",
   "metadata": {},
   "source": [
    "# Импорты"
   ]
  },
  {
   "cell_type": "code",
   "execution_count": 36,
   "metadata": {},
   "outputs": [],
   "source": [
    "import requests\n",
    "from selenium import webdriver\n",
    "from bs4 import BeautifulSoup\n",
    "from selenium.webdriver.common.keys import Keys \n",
    "import pandas as pd\n",
    "import numpy as np\n",
    "from tqdm import tqdm_notebook\n",
    "from multiprocessing import Pool, cpu_count\n",
    "from concurrent.futures import ThreadPoolExecutor"
   ]
  },
  {
   "cell_type": "code",
   "execution_count": null,
   "metadata": {},
   "outputs": [],
   "source": []
  },
  {
   "cell_type": "markdown",
   "metadata": {},
   "source": [
    "# Настройки"
   ]
  },
  {
   "cell_type": "code",
   "execution_count": 37,
   "metadata": {},
   "outputs": [],
   "source": [
    "links = pd.read_csv('all_links.csv')"
   ]
  },
  {
   "cell_type": "markdown",
   "metadata": {},
   "source": [
    "# Поиск информации о товарах"
   ]
  },
  {
   "cell_type": "code",
   "execution_count": 4,
   "metadata": {},
   "outputs": [
    {
     "data": {
      "text/plain": [
       "0                               https://sbermarket.ru/deya\n",
       "1             https://sbermarket.ru/deya/ovoshchi-i-frukty\n",
       "2             https://sbermarket.ru/deya/voda-soki-napitki\n",
       "3                 https://sbermarket.ru/deya/moloko-iaitsa\n",
       "4                     https://sbermarket.ru/deya/bakalieia\n",
       "                               ...                        \n",
       "28054    https://sbermarket.ru/auchansm/tovary-dlia-ofi...\n",
       "28055    https://sbermarket.ru/auchansm/tovary-dlia-ofi...\n",
       "28056    https://sbermarket.ru/deya/moloko-iaitsa/slivo...\n",
       "28057    https://sbermarket.ru/deya/moloko-iaitsa/slivo...\n",
       "28058    https://sbermarket.ru/deya/gotovyie-bliuda-i-p...\n",
       "Name: link, Length: 28059, dtype: object"
      ]
     },
     "execution_count": 4,
     "metadata": {},
     "output_type": "execute_result"
    }
   ],
   "source": [
    "links['link']"
   ]
  },
  {
   "cell_type": "code",
   "execution_count": 38,
   "metadata": {},
   "outputs": [],
   "source": [
    "driver = webdriver.Edge(executable_path=r'C:\\Users\\buthy\\Downloads\\edgedriver_win321\\msedgedriver.exe')\n",
    "driver.execute_script(\"window.scrollTo(0, document.body.scrollHeight);\")"
   ]
  },
  {
   "cell_type": "code",
   "execution_count": 39,
   "metadata": {},
   "outputs": [],
   "source": [
    "def download_html(links, driver):\n",
    "    \n",
    "    df = pd.DataFrame()\n",
    "    for link in tqdm_notebook(links):\n",
    "        driver.get(link)\n",
    "        driver.execute_script(\"window.scrollTo(0, document.body.scrollHeight);\")\n",
    "        html = driver.page_source\n",
    "        df_new = parse_html_to_df(html) \n",
    "        df_new['link'] = link\n",
    "        df = pd.concat([df, df_new])\n",
    "        df.drop_duplicates()\n",
    "    return df\n",
    "\n",
    "def parse_html_to_df(html):\n",
    "    soup = BeautifulSoup(html,'html.parser') \n",
    "    prices_to_parse = soup.find_all(lambda tag: tag.name == 'div' and tag.get('class') == ['product__price'])\n",
    "    prices = [obj.text.strip() for obj in prices_to_parse]\n",
    "    title_to_parse = soup.find_all(lambda tag: tag.name == 'p' and tag.get('class') == ['product__title'])\n",
    "    titles = [obj.text for obj in title_to_parse]\n",
    "    volum_to_parse = soup.find_all(lambda tag: tag.name == 'p' and tag.get('class') == ['product__volume'])\n",
    "    volums = [obj.text.strip() for obj in volum_to_parse]\n",
    "    return pd.DataFrame(np.array([titles, prices, volums]).T, columns=['название', 'цена', 'объем'])"
   ]
  },
  {
   "cell_type": "code",
   "execution_count": 40,
   "metadata": {},
   "outputs": [],
   "source": [
    "links_to_del = set()\n",
    "for link in links['link']:\n",
    "    length = len(link.split('/')[-1])\n",
    "    link_del = link[:-length-1]\n",
    "    links_to_del = links_to_del | set([link_del])"
   ]
  },
  {
   "cell_type": "code",
   "execution_count": 41,
   "metadata": {},
   "outputs": [
    {
     "data": {
      "text/html": [
       "<div>\n",
       "<style scoped>\n",
       "    .dataframe tbody tr th:only-of-type {\n",
       "        vertical-align: middle;\n",
       "    }\n",
       "\n",
       "    .dataframe tbody tr th {\n",
       "        vertical-align: top;\n",
       "    }\n",
       "\n",
       "    .dataframe thead th {\n",
       "        text-align: right;\n",
       "    }\n",
       "</style>\n",
       "<table border=\"1\" class=\"dataframe\">\n",
       "  <thead>\n",
       "    <tr style=\"text-align: right;\">\n",
       "      <th></th>\n",
       "      <th>link</th>\n",
       "      <th>магазин</th>\n",
       "    </tr>\n",
       "  </thead>\n",
       "  <tbody>\n",
       "    <tr>\n",
       "      <th>0</th>\n",
       "      <td>https://sbermarket.ru/deya</td>\n",
       "      <td>deya</td>\n",
       "    </tr>\n",
       "    <tr>\n",
       "      <th>1</th>\n",
       "      <td>https://sbermarket.ru/deya/ovoshchi-i-frukty</td>\n",
       "      <td>deya</td>\n",
       "    </tr>\n",
       "    <tr>\n",
       "      <th>2</th>\n",
       "      <td>https://sbermarket.ru/deya/voda-soki-napitki</td>\n",
       "      <td>deya</td>\n",
       "    </tr>\n",
       "    <tr>\n",
       "      <th>3</th>\n",
       "      <td>https://sbermarket.ru/deya/moloko-iaitsa</td>\n",
       "      <td>deya</td>\n",
       "    </tr>\n",
       "    <tr>\n",
       "      <th>4</th>\n",
       "      <td>https://sbermarket.ru/deya/bakalieia</td>\n",
       "      <td>deya</td>\n",
       "    </tr>\n",
       "    <tr>\n",
       "      <th>...</th>\n",
       "      <td>...</td>\n",
       "      <td>...</td>\n",
       "    </tr>\n",
       "    <tr>\n",
       "      <th>28054</th>\n",
       "      <td>https://sbermarket.ru/auchansm/tovary-dlia-ofi...</td>\n",
       "      <td>auchansm</td>\n",
       "    </tr>\n",
       "    <tr>\n",
       "      <th>28055</th>\n",
       "      <td>https://sbermarket.ru/auchansm/tovary-dlia-ofi...</td>\n",
       "      <td>auchansm</td>\n",
       "    </tr>\n",
       "    <tr>\n",
       "      <th>28056</th>\n",
       "      <td>https://sbermarket.ru/deya/moloko-iaitsa/slivo...</td>\n",
       "      <td>deya</td>\n",
       "    </tr>\n",
       "    <tr>\n",
       "      <th>28057</th>\n",
       "      <td>https://sbermarket.ru/deya/moloko-iaitsa/slivo...</td>\n",
       "      <td>deya</td>\n",
       "    </tr>\n",
       "    <tr>\n",
       "      <th>28058</th>\n",
       "      <td>https://sbermarket.ru/deya/gotovyie-bliuda-i-p...</td>\n",
       "      <td>deya</td>\n",
       "    </tr>\n",
       "  </tbody>\n",
       "</table>\n",
       "<p>28059 rows × 2 columns</p>\n",
       "</div>"
      ],
      "text/plain": [
       "                                                    link   магазин\n",
       "0                             https://sbermarket.ru/deya      deya\n",
       "1           https://sbermarket.ru/deya/ovoshchi-i-frukty      deya\n",
       "2           https://sbermarket.ru/deya/voda-soki-napitki      deya\n",
       "3               https://sbermarket.ru/deya/moloko-iaitsa      deya\n",
       "4                   https://sbermarket.ru/deya/bakalieia      deya\n",
       "...                                                  ...       ...\n",
       "28054  https://sbermarket.ru/auchansm/tovary-dlia-ofi...  auchansm\n",
       "28055  https://sbermarket.ru/auchansm/tovary-dlia-ofi...  auchansm\n",
       "28056  https://sbermarket.ru/deya/moloko-iaitsa/slivo...      deya\n",
       "28057  https://sbermarket.ru/deya/moloko-iaitsa/slivo...      deya\n",
       "28058  https://sbermarket.ru/deya/gotovyie-bliuda-i-p...      deya\n",
       "\n",
       "[28059 rows x 2 columns]"
      ]
     },
     "execution_count": 41,
     "metadata": {},
     "output_type": "execute_result"
    }
   ],
   "source": [
    "links"
   ]
  },
  {
   "cell_type": "code",
   "execution_count": 42,
   "metadata": {},
   "outputs": [],
   "source": [
    "links = links[~links['link'].isin(links_to_del)].reset_index(drop=True)"
   ]
  },
  {
   "cell_type": "code",
   "execution_count": 43,
   "metadata": {},
   "outputs": [],
   "source": [
    "array_split = np.array_split(links['link'].values, 12)"
   ]
  },
  {
   "cell_type": "code",
   "execution_count": 44,
   "metadata": {},
   "outputs": [],
   "source": [
    "def update_df(links):\n",
    "    driver = driver = webdriver.Edge(executable_path=r'C:\\Users\\buthy\\Downloads\\edgedriver_win321\\msedgedriver.exe')\n",
    "    driver.set_script_timeout(600)\n",
    "    df = download_html(links, driver)\n",
    "    driver.quit();\n",
    "    return df"
   ]
  },
  {
   "cell_type": "code",
   "execution_count": null,
   "metadata": {},
   "outputs": [
    {
     "name": "stderr",
     "output_type": "stream",
     "text": [
      "C:\\Users\\buthy\\anaconda3\\lib\\site-packages\\ipykernel_launcher.py:4: TqdmDeprecationWarning: This function will be removed in tqdm==5.0.0\n",
      "Please use `tqdm.notebook.tqdm` instead of `tqdm.tqdm_notebook`\n",
      "  after removing the cwd from sys.path.\n"
     ]
    },
    {
     "data": {
      "application/vnd.jupyter.widget-view+json": {
       "model_id": "aee0c6a6925c4e9191fd5acea5b917b3",
       "version_major": 2,
       "version_minor": 0
      },
      "text/plain": [
       "HBox(children=(FloatProgress(value=0.0, max=1887.0), HTML(value='')))"
      ]
     },
     "metadata": {},
     "output_type": "display_data"
    },
    {
     "data": {
      "application/vnd.jupyter.widget-view+json": {
       "model_id": "3cd394d7051b4ce79237b56c59fa2269",
       "version_major": 2,
       "version_minor": 0
      },
      "text/plain": [
       "HBox(children=(FloatProgress(value=0.0, max=1887.0), HTML(value='')))"
      ]
     },
     "metadata": {},
     "output_type": "display_data"
    },
    {
     "data": {
      "application/vnd.jupyter.widget-view+json": {
       "model_id": "377560d4f09e4bf39a3ec65fb8c0c7ff",
       "version_major": 2,
       "version_minor": 0
      },
      "text/plain": [
       "HBox(children=(FloatProgress(value=0.0, max=1886.0), HTML(value='')))"
      ]
     },
     "metadata": {},
     "output_type": "display_data"
    },
    {
     "data": {
      "application/vnd.jupyter.widget-view+json": {
       "model_id": "d93f86968fbb4a089b3e7104664c8486",
       "version_major": 2,
       "version_minor": 0
      },
      "text/plain": [
       "HBox(children=(FloatProgress(value=0.0, max=1887.0), HTML(value='')))"
      ]
     },
     "metadata": {},
     "output_type": "display_data"
    },
    {
     "data": {
      "application/vnd.jupyter.widget-view+json": {
       "model_id": "8c67f53fcc8f4d36b01c55496d10ee01",
       "version_major": 2,
       "version_minor": 0
      },
      "text/plain": [
       "HBox(children=(FloatProgress(value=0.0, max=1887.0), HTML(value='')))"
      ]
     },
     "metadata": {},
     "output_type": "display_data"
    },
    {
     "data": {
      "application/vnd.jupyter.widget-view+json": {
       "model_id": "13a0f2210eb842ac9b2a868e07e60a1b",
       "version_major": 2,
       "version_minor": 0
      },
      "text/plain": [
       "HBox(children=(FloatProgress(value=0.0, max=1887.0), HTML(value='')))"
      ]
     },
     "metadata": {},
     "output_type": "display_data"
    },
    {
     "data": {
      "application/vnd.jupyter.widget-view+json": {
       "model_id": "a7d02d49b1594a61825e916ea0e304d4",
       "version_major": 2,
       "version_minor": 0
      },
      "text/plain": [
       "HBox(children=(FloatProgress(value=0.0, max=1886.0), HTML(value='')))"
      ]
     },
     "metadata": {},
     "output_type": "display_data"
    },
    {
     "data": {
      "application/vnd.jupyter.widget-view+json": {
       "model_id": "3f6fddd23fd44d228d4d5fd27347acea",
       "version_major": 2,
       "version_minor": 0
      },
      "text/plain": [
       "HBox(children=(FloatProgress(value=0.0, max=1886.0), HTML(value='')))"
      ]
     },
     "metadata": {},
     "output_type": "display_data"
    },
    {
     "data": {
      "application/vnd.jupyter.widget-view+json": {
       "model_id": "0d4ed9917e76418a9774a0fd0bc64f73",
       "version_major": 2,
       "version_minor": 0
      },
      "text/plain": [
       "HBox(children=(FloatProgress(value=0.0, max=1886.0), HTML(value='')))"
      ]
     },
     "metadata": {},
     "output_type": "display_data"
    },
    {
     "data": {
      "application/vnd.jupyter.widget-view+json": {
       "model_id": "a6685951069745978c9205b327aa31b5",
       "version_major": 2,
       "version_minor": 0
      },
      "text/plain": [
       "HBox(children=(FloatProgress(value=0.0, max=1887.0), HTML(value='')))"
      ]
     },
     "metadata": {},
     "output_type": "display_data"
    },
    {
     "data": {
      "application/vnd.jupyter.widget-view+json": {
       "model_id": "b0e75630005b46e69fc1d8cd8dcd4301",
       "version_major": 2,
       "version_minor": 0
      },
      "text/plain": [
       "HBox(children=(FloatProgress(value=0.0, max=1887.0), HTML(value='')))"
      ]
     },
     "metadata": {},
     "output_type": "display_data"
    },
    {
     "data": {
      "application/vnd.jupyter.widget-view+json": {
       "model_id": "03333415d79b4b0fa722251ed0490346",
       "version_major": 2,
       "version_minor": 0
      },
      "text/plain": [
       "HBox(children=(FloatProgress(value=0.0, max=1886.0), HTML(value='')))"
      ]
     },
     "metadata": {},
     "output_type": "display_data"
    }
   ],
   "source": [
    "with ThreadPoolExecutor(12) as executor:\n",
    "    results = executor.map(update_df, array_split)"
   ]
  },
  {
   "cell_type": "code",
   "execution_count": 16,
   "metadata": {},
   "outputs": [],
   "source": [
    "df = pd.DataFrame()\n",
    "for df_new in results:\n",
    "    df = pd.concat([df, df_new])\n",
    "    df.drop_duplicates()"
   ]
  },
  {
   "cell_type": "code",
   "execution_count": 20,
   "metadata": {},
   "outputs": [],
   "source": [
    "df = df.merge(links, how='left')"
   ]
  },
  {
   "cell_type": "code",
   "execution_count": 26,
   "metadata": {},
   "outputs": [],
   "source": [
    "all_links = pd.read_csv('shops_25_01_21.csv')"
   ]
  },
  {
   "cell_type": "code",
   "execution_count": 33,
   "metadata": {},
   "outputs": [
    {
     "data": {
      "text/plain": [
       "72"
      ]
     },
     "execution_count": 33,
     "metadata": {},
     "output_type": "execute_result"
    }
   ],
   "source": [
    "len(all_links['магазин'].unique())"
   ]
  },
  {
   "cell_type": "code",
   "execution_count": 34,
   "metadata": {},
   "outputs": [],
   "source": [
    "all_links_1 = all_links[:60_000] \n",
    "all_links_2 = all_links[60_000:120_000] \n",
    "all_links_3 = all_links[120_000:180_000] \n",
    "all_links_4 = all_links[180_000:] \n"
   ]
  },
  {
   "cell_type": "code",
   "execution_count": 35,
   "metadata": {},
   "outputs": [],
   "source": [
    "all_links_1.to_excel('shops_25_01_21_1.xls', index=False)\n",
    "all_links_2.to_excel('shops_25_01_21_2.xls', index=False)\n",
    "all_links_3.to_excel('shops_25_01_21_3.xls', index=False)\n",
    "all_links_4.to_excel('shops_25_01_21_4.xls', index=False)\n",
    "# all_links_1.to_excel('shops_25_01_21_1.xls', index=False)"
   ]
  },
  {
   "cell_type": "code",
   "execution_count": 96,
   "metadata": {},
   "outputs": [],
   "source": [
    "new_links = pd.read_csv('all_links.csv')\n",
    "new_links.columns = ['link', 'магазин']"
   ]
  },
  {
   "cell_type": "code",
   "execution_count": 102,
   "metadata": {},
   "outputs": [],
   "source": [
    "links_all_df = pd.concat([new_links, links]) \n",
    "links_all_df = links_all_df.drop_duplicates()\n",
    "links_all_df.to_csv('all_links.csv', index=False)"
   ]
  },
  {
   "cell_type": "code",
   "execution_count": 53,
   "metadata": {},
   "outputs": [],
   "source": [
    "markets = pd.read_csv('shops.csv')"
   ]
  },
  {
   "cell_type": "code",
   "execution_count": 54,
   "metadata": {},
   "outputs": [],
   "source": [
    "markets.to_excel('shops.xls', index=False)"
   ]
  },
  {
   "cell_type": "code",
   "execution_count": null,
   "metadata": {},
   "outputs": [],
   "source": [
    "df.to_csv('first_shops.csv', index=False)"
   ]
  },
  {
   "cell_type": "code",
   "execution_count": 89,
   "metadata": {},
   "outputs": [],
   "source": [
    "df = df.merge(links, on='link', how='left')"
   ]
  },
  {
   "cell_type": "code",
   "execution_count": 84,
   "metadata": {},
   "outputs": [
    {
     "data": {
      "text/plain": [
       "Index(['название', 'цена', 'объем', 'link'], dtype='object')"
      ]
     },
     "execution_count": 84,
     "metadata": {},
     "output_type": "execute_result"
    }
   ],
   "source": [
    "df.columns"
   ]
  },
  {
   "cell_type": "code",
   "execution_count": 87,
   "metadata": {},
   "outputs": [],
   "source": [
    "links.columns = ['link', 'магазин']"
   ]
  },
  {
   "cell_type": "code",
   "execution_count": 49,
   "metadata": {},
   "outputs": [],
   "source": [
    "df = df.drop(columns=['index', 0])"
   ]
  },
  {
   "cell_type": "code",
   "execution_count": 51,
   "metadata": {},
   "outputs": [],
   "source": [
    "df.to_csv('products_ashan.csv', index=False)"
   ]
  }
 ],
 "metadata": {
  "kernelspec": {
   "display_name": "Python 3",
   "language": "python",
   "name": "python3"
  },
  "language_info": {
   "codemirror_mode": {
    "name": "ipython",
    "version": 3
   },
   "file_extension": ".py",
   "mimetype": "text/x-python",
   "name": "python",
   "nbconvert_exporter": "python",
   "pygments_lexer": "ipython3",
   "version": "3.7.6"
  }
 },
 "nbformat": 4,
 "nbformat_minor": 4
}
